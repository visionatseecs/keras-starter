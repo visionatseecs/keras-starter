{
  "nbformat": 4,
  "nbformat_minor": 0,
  "metadata": {
    "colab": {
      "name": "Colab Workshop.ipynb",
      "provenance": [],
      "collapsed_sections": [],
      "toc_visible": true,
      "authorship_tag": "ABX9TyNGwkjNE5/UCquChxz0kRBR",
      "include_colab_link": true
    },
    "kernelspec": {
      "name": "python3",
      "display_name": "Python 3"
    },
    "accelerator": "GPU"
  },
  "cells": [
    {
      "cell_type": "markdown",
      "metadata": {
        "id": "view-in-github",
        "colab_type": "text"
      },
      "source": [
        "<a href=\"https://colab.research.google.com/github/asimniazi63/Colab-Workshop/blob/main/Colab_Workshop.ipynb\" target=\"_parent\"><img src=\"https://colab.research.google.com/assets/colab-badge.svg\" alt=\"Open In Colab\"/></a>"
      ]
    },
    {
      "cell_type": "markdown",
      "metadata": {
        "id": "b7JwJIcd_Ybo"
      },
      "source": [
        "#Google Colab Workshop"
      ]
    },
    {
      "cell_type": "markdown",
      "metadata": {
        "id": "Ddo-YdHh9FVV"
      },
      "source": [
        "##**Introduction** <br>\r\n",
        "\r\n",
        "Google is quite aggressive in AI research. Over many years, Google developed AI framework called TensorFlow and a development tool called Colaboratory. Today TensorFlow is open-sourced and since 2017, Google made Colaboratory free for public use. Colaboratory is now known as Google Colab or simply Colab.\r\n",
        "\r\n",
        "Another attractive feature that Google offers to the developers is the use of GPU. Colab supports GPU and it is totally free. The reasons for making it free for public could be to make its software a standard in the academics for teaching machine learning and data science. It may also have a long term perspective of building a customer base for Google Cloud APIs which are sold per-use basis.\r\n",
        "\r\n",
        "Irrespective of the reasons, the introduction of Colab has eased the learning and development of machine learning applications.\r\n",
        "\r\n",
        "##**Prerequisites:** <br>\r\n",
        "Before you start practicing various types of examples given in this tutorial, we assume that you are already aware about Jupyter, GitHub, basics of Python and other computer programming languages.\r\n",
        "\r\n",
        "If you are new to any of these, we suggest you pick up related tutorials before you embark on your learning with Colab.\r\n",
        "\r\n",
        "##**What Colab Offers You?**\r\n",
        "As a programmer, you can perform the following using Google Colab.\r\n",
        "\r\n",
        "- Write and execute code in Python\r\n",
        "\r\n",
        "- Document your code that supports mathematical equations\r\n",
        "\r\n",
        "- Create/ Upload/Share notebooks\r\n",
        "\r\n",
        "- Import/Save notebooks from/to Google Drive\r\n",
        "\r\n",
        "- Import/Publish notebooks from GitHub\r\n",
        "\r\n",
        "- Import external datasets e.g. from Kaggle\r\n",
        "\r\n",
        "- Integrate PyTorch, TensorFlow, Keras, OpenCV\r\n",
        "\r\n",
        "- Free Cloud service with free GPU\r\n",
        "\r\n",
        "##**Notebook Creation** <br>\r\n",
        "**Note** − As Colab implicitly uses Google Drive for storing your notebooks, ensure that you are logged in to your Google Drive account before proceeding further.\r\n",
        "\r\n",
        "**Steps**\r\n",
        "1. Open the following URL in your browser − https://colab.research.google.com Your browser would display the following screen\r\n",
        "\r\n",
        "2. Click on the NEW PYTHON 3 NOTEBOOK link at the bottom of the screen. A new notebook would open up.\r\n",
        "3. By default, the notebook uses the naming convention UntitledXX.ipynb. To rename the notebook, click on this name and type in the desired name.\r\n",
        "\r\n",
        "Some **Python** code examples:\r\n"
      ]
    },
    {
      "cell_type": "code",
      "metadata": {
        "id": "54xNbqrL9Oei",
        "colab": {
          "base_uri": "https://localhost:8080/"
        },
        "outputId": "6bf02a87-504a-4e81-bc16-74997daab1eb"
      },
      "source": [
        "print(\"Hello World!\")"
      ],
      "execution_count": 1,
      "outputs": [
        {
          "output_type": "stream",
          "text": [
            "Hello World!\n"
          ],
          "name": "stdout"
        }
      ]
    },
    {
      "cell_type": "code",
      "metadata": {
        "colab": {
          "base_uri": "https://localhost:8080/"
        },
        "id": "yrghXNLiiT7w",
        "outputId": "da50f8ca-b8b0-42ee-a26c-42889ca621c1"
      },
      "source": [
        "# check python version\r\n",
        "import sys\r\n",
        "print(\"Python version\")\r\n",
        "print (sys.version)"
      ],
      "execution_count": 2,
      "outputs": [
        {
          "output_type": "stream",
          "text": [
            "Python version\n",
            "3.6.9 (default, Oct  8 2020, 12:12:24) \n",
            "[GCC 8.4.0]\n"
          ],
          "name": "stdout"
        }
      ]
    },
    {
      "cell_type": "code",
      "metadata": {
        "colab": {
          "base_uri": "https://localhost:8080/"
        },
        "id": "rInjR4SFhQbw",
        "outputId": "d5d635e3-6473-4df1-ca67-b344f649375e"
      },
      "source": [
        "print(\"Iterate over the items. `range(2)` is like a list [0,1].\")\r\n",
        "for i in range(5):\r\n",
        "  print(i)"
      ],
      "execution_count": 3,
      "outputs": [
        {
          "output_type": "stream",
          "text": [
            "Iterate over the items. `range(2)` is like a list [0,1].\n",
            "0\n",
            "1\n",
            "2\n",
            "3\n",
            "4\n"
          ],
          "name": "stdout"
        }
      ]
    },
    {
      "cell_type": "markdown",
      "metadata": {
        "id": "rjdnTqD5jYIp"
      },
      "source": [
        "**NumPy** examples"
      ]
    },
    {
      "cell_type": "code",
      "metadata": {
        "colab": {
          "base_uri": "https://localhost:8080/"
        },
        "id": "4ZwPWHH1jiBN",
        "outputId": "ea1802ef-a9f8-42a9-82ba-4ab832a9778d"
      },
      "source": [
        "import numpy as np\r\n",
        "print(np.__version__)"
      ],
      "execution_count": 4,
      "outputs": [
        {
          "output_type": "stream",
          "text": [
            "1.19.4\n"
          ],
          "name": "stdout"
        }
      ]
    },
    {
      "cell_type": "code",
      "metadata": {
        "colab": {
          "base_uri": "https://localhost:8080/"
        },
        "id": "dEYvAprXiOsw",
        "outputId": "bd3c3b7a-ebcc-49a0-a4f1-322f5ea7b87c"
      },
      "source": [
        "print(\"\\nShowing some basic math on arrays\")\r\n",
        "b = np.array([0,1,4,3,2])\r\n",
        "print(\"Max: {}\".format(np.max(b)))\r\n",
        "print(\"Average: {}\".format(np.average(b)))\r\n",
        "print(\"Max index: {}\".format(np.argmax(b)))"
      ],
      "execution_count": 5,
      "outputs": [
        {
          "output_type": "stream",
          "text": [
            "\n",
            "Showing some basic math on arrays\n",
            "Max: 4\n",
            "Average: 2.0\n",
            "Max index: 2\n"
          ],
          "name": "stdout"
        }
      ]
    },
    {
      "cell_type": "markdown",
      "metadata": {
        "id": "ktTfxawWhQ9w"
      },
      "source": [
        "## Markdown example for a an equation: <br>\r\n",
        "**Hint:** Double Click cell to see the syntax\r\n",
        "- $3x_1 + 6x_2 + x_3 =< 28$"
      ]
    },
    {
      "cell_type": "markdown",
      "metadata": {
        "id": "qqWvFrHZkizV"
      },
      "source": [
        "##**Invoking System Commands**"
      ]
    },
    {
      "cell_type": "code",
      "metadata": {
        "colab": {
          "base_uri": "https://localhost:8080/"
        },
        "id": "JLp5iK-VNry1",
        "outputId": "95c68278-72ce-40f3-e795-cad46f35fbe5"
      },
      "source": [
        "pip install numpy"
      ],
      "execution_count": 8,
      "outputs": [
        {
          "output_type": "stream",
          "text": [
            "Requirement already satisfied: numpy in /usr/local/lib/python3.6/dist-packages (1.19.4)\n"
          ],
          "name": "stdout"
        }
      ]
    },
    {
      "cell_type": "code",
      "metadata": {
        "colab": {
          "base_uri": "https://localhost:8080/"
        },
        "id": "1ZMOUW4bhRjA",
        "outputId": "3073d2c4-1a6f-4172-d017-b7bdb4733d90"
      },
      "source": [
        "# echo\r\n",
        "message = 'A Great Tutorial on Colab by Tutorialspoint!'\r\n",
        "greeting = !echo '$message'\r\n",
        "greeting"
      ],
      "execution_count": 9,
      "outputs": [
        {
          "output_type": "execute_result",
          "data": {
            "text/plain": [
              "['A Great Tutorial on Colab by Tutorialspoint!']"
            ]
          },
          "metadata": {
            "tags": []
          },
          "execution_count": 9
        }
      ]
    },
    {
      "cell_type": "code",
      "metadata": {
        "colab": {
          "base_uri": "https://localhost:8080/"
        },
        "id": "6T5ZrqehmRbI",
        "outputId": "4d7964b0-0415-4f2b-df24-e4059879d305"
      },
      "source": [
        "# getting remote data\r\n",
        "!wget https://opencv.org/wp-content/uploads/2020/07/OpenCV_logo_no_text_.png"
      ],
      "execution_count": 10,
      "outputs": [
        {
          "output_type": "stream",
          "text": [
            "--2020-12-24 14:48:03--  https://opencv.org/wp-content/uploads/2020/07/OpenCV_logo_no_text_.png\n",
            "Resolving opencv.org (opencv.org)... 50.28.17.172\n",
            "Connecting to opencv.org (opencv.org)|50.28.17.172|:443... connected.\n",
            "HTTP request sent, awaiting response... 200 OK\n",
            "Length: 91541 (89K) [image/png]\n",
            "Saving to: ‘OpenCV_logo_no_text_.png’\n",
            "\n",
            "OpenCV_logo_no_text 100%[===================>]  89.40K  --.-KB/s    in 0.08s   \n",
            "\n",
            "2020-12-24 14:48:03 (1.16 MB/s) - ‘OpenCV_logo_no_text_.png’ saved [91541/91541]\n",
            "\n"
          ],
          "name": "stdout"
        }
      ]
    },
    {
      "cell_type": "code",
      "metadata": {
        "colab": {
          "base_uri": "https://localhost:8080/"
        },
        "id": "m27cBtor4fs-",
        "outputId": "b6f6d180-4872-4c99-9a8d-bd81cc81ecdb"
      },
      "source": [
        "# git clone\r\n",
        "!git clone https://github.com/visionatseecs/opencv-starter.git"
      ],
      "execution_count": 11,
      "outputs": [
        {
          "output_type": "stream",
          "text": [
            "Cloning into 'opencv-starter'...\n",
            "remote: Enumerating objects: 98, done.\u001b[K\n",
            "remote: Counting objects: 100% (98/98), done.\u001b[K\n",
            "remote: Compressing objects: 100% (77/77), done.\u001b[K\n",
            "remote: Total 98 (delta 37), reused 70 (delta 15), pack-reused 0\u001b[K\n",
            "Unpacking objects: 100% (98/98), done.\n"
          ],
          "name": "stdout"
        }
      ]
    },
    {
      "cell_type": "code",
      "metadata": {
        "colab": {
          "base_uri": "https://localhost:8080/"
        },
        "id": "5kVN0jUzOiEV",
        "outputId": "9cb4c1a7-183f-4310-bab1-64e2a580bf10"
      },
      "source": [
        "%cd \"/content/opencv-starter\""
      ],
      "execution_count": 13,
      "outputs": [
        {
          "output_type": "stream",
          "text": [
            "/content/opencv-starter\n"
          ],
          "name": "stdout"
        }
      ]
    },
    {
      "cell_type": "code",
      "metadata": {
        "colab": {
          "base_uri": "https://localhost:8080/"
        },
        "id": "i8WHggj4nya9",
        "outputId": "66718b49-e01d-403c-b5ce-0050ba83b8ee"
      },
      "source": [
        "# list files in colab session\r\n",
        "!ls"
      ],
      "execution_count": 14,
      "outputs": [
        {
          "output_type": "stream",
          "text": [
            "01.ipynb  03.ipynb  05.ipynb  07.ipynb\tgrayscale.png  README.md\n",
            "02.ipynb  04.ipynb  06.ipynb  08.ipynb\tImages\n"
          ],
          "name": "stdout"
        }
      ]
    },
    {
      "cell_type": "code",
      "metadata": {
        "id": "VXBN8KD3t3wd"
      },
      "source": [
        "# This presents the complete history of commands that you have previously executed.\r\n",
        "%history "
      ],
      "execution_count": null,
      "outputs": []
    },
    {
      "cell_type": "code",
      "metadata": {
        "colab": {
          "base_uri": "https://localhost:8080/",
          "height": 158
        },
        "id": "zGYOoSLHuSkW",
        "outputId": "c85612a9-1ad2-45f6-95a2-212934369121"
      },
      "source": [
        "# To get a complete list of supported magics, execute the following command −\r\n",
        "\r\n",
        "\r\n",
        "%lsmagic"
      ],
      "execution_count": 16,
      "outputs": [
        {
          "output_type": "execute_result",
          "data": {
            "application/json": {
              "cell": {
                "prun": "ExecutionMagics",
                "file": "Other",
                "!": "OSMagics",
                "capture": "ExecutionMagics",
                "timeit": "ExecutionMagics",
                "script": "ScriptMagics",
                "pypy": "Other",
                "system": "OSMagics",
                "perl": "Other",
                "html": "DisplayMagics",
                "bash": "Other",
                "shell": "Other",
                "HTML": "Other",
                "python": "Other",
                "SVG": "Other",
                "javascript": "DisplayMagics",
                "bigquery": "Other",
                "js": "DisplayMagics",
                "writefile": "OSMagics",
                "ruby": "Other",
                "python3": "Other",
                "python2": "Other",
                "latex": "DisplayMagics",
                "sx": "OSMagics",
                "svg": "DisplayMagics",
                "sh": "Other",
                "time": "ExecutionMagics",
                "debug": "ExecutionMagics"
              },
              "line": {
                "psource": "NamespaceMagics",
                "logstart": "LoggingMagics",
                "popd": "OSMagics",
                "tensorflow_version": "Other",
                "loadpy": "CodeMagics",
                "colors": "BasicMagics",
                "who_ls": "NamespaceMagics",
                "lf": "Other",
                "ll": "Other",
                "pprint": "BasicMagics",
                "lk": "Other",
                "ls": "Other",
                "save": "CodeMagics",
                "tb": "ExecutionMagics",
                "lx": "Other",
                "pylab": "PylabMagics",
                "killbgscripts": "ScriptMagics",
                "quickref": "BasicMagics",
                "magic": "BasicMagics",
                "dhist": "OSMagics",
                "edit": "KernelMagics",
                "logstop": "LoggingMagics",
                "gui": "BasicMagics",
                "prun": "ExecutionMagics",
                "debug": "ExecutionMagics",
                "page": "BasicMagics",
                "logstate": "LoggingMagics",
                "ed": "Other",
                "pushd": "OSMagics",
                "timeit": "ExecutionMagics",
                "set_env": "OSMagics",
                "rehashx": "OSMagics",
                "hist": "Other",
                "qtconsole": "KernelMagics",
                "rm": "Other",
                "dirs": "OSMagics",
                "run": "ExecutionMagics",
                "reset_selective": "NamespaceMagics",
                "pinfo2": "NamespaceMagics",
                "matplotlib": "PylabMagics",
                "unload_ext": "ExtensionMagics",
                "doctest_mode": "BasicMagics",
                "logoff": "LoggingMagics",
                "reload_ext": "ExtensionMagics",
                "pdb": "ExecutionMagics",
                "load": "CodeMagics",
                "lsmagic": "BasicMagics",
                "autosave": "KernelMagics",
                "cd": "OSMagics",
                "pastebin": "CodeMagics",
                "alias_magic": "BasicMagics",
                "cp": "Other",
                "autocall": "AutoMagics",
                "ldir": "Other",
                "bookmark": "OSMagics",
                "connect_info": "KernelMagics",
                "mkdir": "Other",
                "system": "OSMagics",
                "whos": "NamespaceMagics",
                "rmdir": "Other",
                "automagic": "AutoMagics",
                "store": "StoreMagics",
                "more": "KernelMagics",
                "shell": "Other",
                "pdef": "NamespaceMagics",
                "precision": "BasicMagics",
                "pinfo": "NamespaceMagics",
                "pwd": "OSMagics",
                "psearch": "NamespaceMagics",
                "reset": "NamespaceMagics",
                "recall": "HistoryMagics",
                "xdel": "NamespaceMagics",
                "xmode": "BasicMagics",
                "cat": "Other",
                "mv": "Other",
                "rerun": "HistoryMagics",
                "logon": "LoggingMagics",
                "history": "HistoryMagics",
                "pycat": "OSMagics",
                "pip": "Other",
                "unalias": "OSMagics",
                "env": "OSMagics",
                "load_ext": "ExtensionMagics",
                "config": "ConfigMagics",
                "profile": "BasicMagics",
                "pfile": "NamespaceMagics",
                "less": "KernelMagics",
                "who": "NamespaceMagics",
                "notebook": "BasicMagics",
                "man": "KernelMagics",
                "sx": "OSMagics",
                "macro": "ExecutionMagics",
                "clear": "KernelMagics",
                "alias": "OSMagics",
                "time": "ExecutionMagics",
                "sc": "OSMagics",
                "rep": "Other",
                "pdoc": "NamespaceMagics"
              }
            },
            "text/plain": [
              "Available line magics:\n",
              "%alias  %alias_magic  %autocall  %automagic  %autosave  %bookmark  %cat  %cd  %clear  %colors  %config  %connect_info  %cp  %debug  %dhist  %dirs  %doctest_mode  %ed  %edit  %env  %gui  %hist  %history  %killbgscripts  %ldir  %less  %lf  %lk  %ll  %load  %load_ext  %loadpy  %logoff  %logon  %logstart  %logstate  %logstop  %ls  %lsmagic  %lx  %macro  %magic  %man  %matplotlib  %mkdir  %more  %mv  %notebook  %page  %pastebin  %pdb  %pdef  %pdoc  %pfile  %pinfo  %pinfo2  %pip  %popd  %pprint  %precision  %profile  %prun  %psearch  %psource  %pushd  %pwd  %pycat  %pylab  %qtconsole  %quickref  %recall  %rehashx  %reload_ext  %rep  %rerun  %reset  %reset_selective  %rm  %rmdir  %run  %save  %sc  %set_env  %shell  %store  %sx  %system  %tb  %tensorflow_version  %time  %timeit  %unalias  %unload_ext  %who  %who_ls  %whos  %xdel  %xmode\n",
              "\n",
              "Available cell magics:\n",
              "%%!  %%HTML  %%SVG  %%bash  %%bigquery  %%capture  %%debug  %%file  %%html  %%javascript  %%js  %%latex  %%perl  %%prun  %%pypy  %%python  %%python2  %%python3  %%ruby  %%script  %%sh  %%shell  %%svg  %%sx  %%system  %%time  %%timeit  %%writefile\n",
              "\n",
              "Automagic is ON, % prefix IS NOT needed for line magics."
            ]
          },
          "metadata": {
            "tags": []
          },
          "execution_count": 16
        }
      ]
    },
    {
      "cell_type": "code",
      "metadata": {
        "colab": {
          "base_uri": "https://localhost:8080/"
        },
        "id": "4h1VxkdMtx3E",
        "outputId": "1be588d2-5d76-43e7-8c96-471a08f1d20d"
      },
      "source": [
        "# current working directory\r\n",
        "!pwd"
      ],
      "execution_count": 17,
      "outputs": [
        {
          "output_type": "stream",
          "text": [
            "/content/opencv-starter\n"
          ],
          "name": "stdout"
        }
      ]
    },
    {
      "cell_type": "code",
      "metadata": {
        "colab": {
          "base_uri": "https://localhost:8080/"
        },
        "id": "l6JyIX5hPHZ2",
        "outputId": "1ef082aa-75d5-4837-a1a4-8473251f2ce5"
      },
      "source": [
        "%cd .."
      ],
      "execution_count": 18,
      "outputs": [
        {
          "output_type": "stream",
          "text": [
            "/content\n"
          ],
          "name": "stdout"
        }
      ]
    },
    {
      "cell_type": "code",
      "metadata": {
        "id": "yrU8kbo3ol-d"
      },
      "source": [
        "# make directory\r\n",
        "!mkdir Folder\r\n",
        "# copy files\r\n",
        "!cp /content/OpenCV_logo_no_text_.png Folder\r\n",
        "#remove file\r\n",
        "!rm -rf /content/OpenCV_logo_no_text_.png"
      ],
      "execution_count": 19,
      "outputs": []
    },
    {
      "cell_type": "markdown",
      "metadata": {
        "id": "7jIXnlUXq2tZ"
      },
      "source": [
        "##**Executing External Python Scripts**"
      ]
    },
    {
      "cell_type": "code",
      "metadata": {
        "colab": {
          "base_uri": "https://localhost:8080/"
        },
        "id": "4zl7xxojpZTw",
        "outputId": "e4b8e624-e29d-41d2-e631-5475a3c5c302"
      },
      "source": [
        "!python hello.py"
      ],
      "execution_count": 23,
      "outputs": [
        {
          "output_type": "stream",
          "text": [
            "Hello from Script!\n"
          ],
          "name": "stdout"
        }
      ]
    },
    {
      "cell_type": "code",
      "metadata": {
        "colab": {
          "base_uri": "https://localhost:8080/"
        },
        "id": "Xp2rckumr__r",
        "outputId": "15f2c713-45ca-47fc-8597-404c36b96ad3"
      },
      "source": [
        "from hello import hello_world\r\n",
        "\r\n",
        "hello_world()"
      ],
      "execution_count": 24,
      "outputs": [
        {
          "output_type": "stream",
          "text": [
            "Hello from Script!\n",
            "Hello from function!\n"
          ],
          "name": "stdout"
        }
      ]
    },
    {
      "cell_type": "markdown",
      "metadata": {
        "id": "7DqNKpClsLRW"
      },
      "source": [
        "##**Graphical Outputs**\r\n"
      ]
    },
    {
      "cell_type": "code",
      "metadata": {
        "colab": {
          "base_uri": "https://localhost:8080/",
          "height": 167
        },
        "id": "TycgV3SsrEJS",
        "outputId": "ec72310e-62fd-496e-8a5e-042691eba7bf"
      },
      "source": [
        "from google.colab.patches import cv2_imshow\r\n",
        "import cv2\r\n",
        "\r\n",
        "image = cv2.imread(\"/content/Folder/OpenCV_logo_no_text_.png\",1)\r\n",
        "image = cv2.resize(image,(150,150))\r\n",
        "cv2_imshow(image)\r\n"
      ],
      "execution_count": 25,
      "outputs": [
        {
          "output_type": "display_data",
          "data": {
            "image/png": "[encoded data removed]",
            "text/plain": [
              "<PIL.Image.Image image mode=RGB size=150x150 at 0x7F0D2FC22278>"
            ]
          },
          "metadata": {
            "tags": []
          }
        }
      ]
    },
    {
      "cell_type": "code",
      "metadata": {
        "colab": {
          "base_uri": "https://localhost:8080/",
          "height": 286
        },
        "id": "ykc6KkbdsnsJ",
        "outputId": "c4e9c5b5-cb13-4609-a8d4-2e74223f3fa4"
      },
      "source": [
        "# using matplotlib\r\n",
        "from matplotlib import pyplot as plt\r\n",
        "image = cv2.cvtColor(image, cv2.COLOR_BGR2RGB)\r\n",
        "plt.imshow(image)"
      ],
      "execution_count": null,
      "outputs": [
        {
          "output_type": "execute_result",
          "data": {
            "text/plain": [
              "<matplotlib.image.AxesImage at 0x7f601d4a44e0>"
            ]
          },
          "metadata": {
            "tags": []
          },
          "execution_count": 35
        },
        {
          "output_type": "display_data",
          "data": {
            "image/png": "[encoded data removed]",
            "text/plain": [
              "<Figure size 432x288 with 1 Axes>"
            ]
          },
          "metadata": {
            "tags": [],
            "needs_background": "light"
          }
        }
      ]
    },
    {
      "cell_type": "markdown",
      "metadata": {
        "id": "H9S83xYlu4cE"
      },
      "source": [
        "## **Installing  Libraries**\r\n",
        "Colab supports most of machine learning libraries available. Lets look at some of them"
      ]
    },
    {
      "cell_type": "code",
      "metadata": {
        "colab": {
          "base_uri": "https://localhost:8080/",
          "height": 211
        },
        "id": "QZVL9xWqQmxj",
        "outputId": "2d180d35-1f9c-4d9a-beb7-4bcf438376df"
      },
      "source": [
        "!pip install --ignore-installed tqdm"
      ],
      "execution_count": 27,
      "outputs": [
        {
          "output_type": "stream",
          "text": [
            "Collecting tqdm\n",
            "\u001b[?25l  Downloading https://files.pythonhosted.org/packages/8a/54/115f0c28a61d56674c3a5e05c46d6c3523ad196e1dcd3e2d8b119026df36/tqdm-4.54.1-py2.py3-none-any.whl (69kB)\n",
            "\r\u001b[K     |████▊                           | 10kB 23.3MB/s eta 0:00:01\r\u001b[K     |█████████▍                      | 20kB 27.3MB/s eta 0:00:01\r\u001b[K     |██████████████                  | 30kB 21.6MB/s eta 0:00:01\r\u001b[K     |██████████████████▉             | 40kB 20.0MB/s eta 0:00:01\r\u001b[K     |███████████████████████▌        | 51kB 20.7MB/s eta 0:00:01\r\u001b[K     |████████████████████████████▏   | 61kB 15.9MB/s eta 0:00:01\r\u001b[K     |████████████████████████████████| 71kB 6.5MB/s \n",
            "\u001b[?25hInstalling collected packages: tqdm\n",
            "Successfully installed tqdm-4.54.1\n"
          ],
          "name": "stdout"
        },
        {
          "output_type": "display_data",
          "data": {
            "application/vnd.colab-display-data+json": {
              "pip_warning": {
                "packages": [
                  "tqdm"
                ]
              }
            }
          },
          "metadata": {
            "tags": []
          }
        }
      ]
    },
    {
      "cell_type": "code",
      "metadata": {
        "colab": {
          "base_uri": "https://localhost:8080/"
        },
        "id": "xpMnKHeytTBs",
        "outputId": "237e9c35-e7c2-4877-a450-b17b61c58c2b"
      },
      "source": [
        "!pip install keras"
      ],
      "execution_count": null,
      "outputs": [
        {
          "output_type": "stream",
          "text": [
            "Requirement already satisfied: keras in /usr/local/lib/python3.6/dist-packages (2.4.3)\n",
            "Requirement already satisfied: pyyaml in /usr/local/lib/python3.6/dist-packages (from keras) (3.13)\n",
            "Requirement already satisfied: numpy>=1.9.1 in /usr/local/lib/python3.6/dist-packages (from keras) (1.19.4)\n",
            "Requirement already satisfied: scipy>=0.14 in /usr/local/lib/python3.6/dist-packages (from keras) (1.4.1)\n",
            "Requirement already satisfied: h5py in /usr/local/lib/python3.6/dist-packages (from keras) (2.10.0)\n",
            "Requirement already satisfied: six in /usr/local/lib/python3.6/dist-packages (from h5py->keras) (1.15.0)\n"
          ],
          "name": "stdout"
        }
      ]
    },
    {
      "cell_type": "code",
      "metadata": {
        "id": "8_1VIRpRwJ6M"
      },
      "source": [
        "!pip install --ignore-installed keras"
      ],
      "execution_count": null,
      "outputs": []
    },
    {
      "cell_type": "code",
      "metadata": {
        "colab": {
          "base_uri": "https://localhost:8080/"
        },
        "id": "6va2mvrc2ZUZ",
        "outputId": "f817dd93-cd59-46f2-a5b8-f81eea40fa1c"
      },
      "source": [
        "import keras\r\n",
        "print(keras.__version__)"
      ],
      "execution_count": 28,
      "outputs": [
        {
          "output_type": "stream",
          "text": [
            "2.4.3\n"
          ],
          "name": "stdout"
        }
      ]
    },
    {
      "cell_type": "code",
      "metadata": {
        "colab": {
          "base_uri": "https://localhost:8080/"
        },
        "id": "Cgw-zOuMECje",
        "outputId": "2420c317-4a33-4662-f0f2-0cdb4856e374"
      },
      "source": [
        "import tensorflow\r\n",
        "print(tensorflow.__version__)"
      ],
      "execution_count": 3,
      "outputs": [
        {
          "output_type": "stream",
          "text": [
            "2.4.0\n"
          ],
          "name": "stdout"
        }
      ]
    },
    {
      "cell_type": "code",
      "metadata": {
        "colab": {
          "base_uri": "https://localhost:8080/"
        },
        "id": "TjjtdkERD7qp",
        "outputId": "659dea80-d768-45ff-e60d-e28618d46ea5"
      },
      "source": [
        "%tensorflow_version 1.x"
      ],
      "execution_count": 2,
      "outputs": [
        {
          "output_type": "stream",
          "text": [
            "TensorFlow is already loaded. Please restart the runtime to change versions.\n"
          ],
          "name": "stdout"
        }
      ]
    },
    {
      "cell_type": "markdown",
      "metadata": {
        "id": "HUvvNrGoxC14"
      },
      "source": [
        "## **Mounting Google Drive**\r\n",
        "1. Mount using Mount Drive button in Files section.\r\n",
        "2.  Or Use the following code:"
      ]
    },
    {
      "cell_type": "code",
      "metadata": {
        "colab": {
          "base_uri": "https://localhost:8080/"
        },
        "id": "vvLi7SBvwOgh",
        "outputId": "0836418f-42df-47b1-fa10-d70fcb82a01c"
      },
      "source": [
        "from google.colab import drive\r\n",
        "drive.mount('/content/drive')"
      ],
      "execution_count": 4,
      "outputs": [
        {
          "output_type": "stream",
          "text": [
            "Mounted at /content/drive\n"
          ],
          "name": "stdout"
        }
      ]
    },
    {
      "cell_type": "code",
      "metadata": {
        "id": "VPBpJekJzXga"
      },
      "source": [
        "# listing drive content\r\n",
        "!ls \"/content/drive/My Drive/\""
      ],
      "execution_count": null,
      "outputs": []
    },
    {
      "cell_type": "code",
      "metadata": {
        "id": "vzZCU17Zxy9I"
      },
      "source": [
        "# copy files to drive\r\n",
        "!cp /content/Folder/OpenCV_logo_no_text_.png /content/drive/MyDrive"
      ],
      "execution_count": 6,
      "outputs": []
    },
    {
      "cell_type": "markdown",
      "metadata": {
        "id": "0uJcX11x1S2y"
      },
      "source": [
        "##**Working with datasets**\r\n"
      ]
    },
    {
      "cell_type": "code",
      "metadata": {
        "colab": {
          "base_uri": "https://localhost:8080/"
        },
        "id": "7B_ucVg61oLJ",
        "outputId": "d26bfe91-ea4d-4d9c-9a60-a8c7e65c8078"
      },
      "source": [
        "# download\r\n",
        "!wget  https://s3.amazonaws.com/content.udacity-data.com/courses/nd188/flower_data.zip"
      ],
      "execution_count": 7,
      "outputs": [
        {
          "output_type": "stream",
          "text": [
            "--2020-12-24 15:06:51--  https://s3.amazonaws.com/content.udacity-data.com/courses/nd188/flower_data.zip\n",
            "Resolving s3.amazonaws.com (s3.amazonaws.com)... 52.216.251.30\n",
            "Connecting to s3.amazonaws.com (s3.amazonaws.com)|52.216.251.30|:443... connected.\n",
            "HTTP request sent, awaiting response... 200 OK\n",
            "Length: 311442766 (297M) [application/zip]\n",
            "Saving to: ‘flower_data.zip’\n",
            "\n",
            "flower_data.zip     100%[===================>] 297.01M  62.8MB/s    in 4.5s    \n",
            "\n",
            "2020-12-24 15:06:55 (65.5 MB/s) - ‘flower_data.zip’ saved [311442766/311442766]\n",
            "\n"
          ],
          "name": "stdout"
        }
      ]
    },
    {
      "cell_type": "code",
      "metadata": {
        "id": "SNGWCs-52A27"
      },
      "source": [
        "# unzip\r\n",
        "!unzip flower_data.zip #q for quiet\r\n",
        "print(\"Done\")"
      ],
      "execution_count": null,
      "outputs": []
    },
    {
      "cell_type": "markdown",
      "metadata": {
        "id": "ST0blO0VztE4"
      },
      "source": [
        "## Using GPU\r\n",
        "Colab provides GPU and is totally free.\r\n",
        "- To enable GPU in your notebook, select the following menu options − Runtime / Change runtime type\r\n"
      ]
    },
    {
      "cell_type": "code",
      "metadata": {
        "colab": {
          "base_uri": "https://localhost:8080/",
          "height": 34
        },
        "id": "GP_nus5T5OJ-",
        "outputId": "c26fd62b-cf47-47c6-8d75-11d263c81446"
      },
      "source": [
        "# is GPU working\r\n",
        "import tensorflow as tf\r\n",
        "tf.test.gpu_device_name()"
      ],
      "execution_count": 9,
      "outputs": [
        {
          "output_type": "execute_result",
          "data": {
            "application/vnd.google.colaboratory.intrinsic+json": {
              "type": "string"
            },
            "text/plain": [
              "'/device:GPU:0'"
            ]
          },
          "metadata": {
            "tags": []
          },
          "execution_count": 9
        }
      ]
    },
    {
      "cell_type": "code",
      "metadata": {
        "colab": {
          "base_uri": "https://localhost:8080/"
        },
        "id": "WAtbVVH1yZwR",
        "outputId": "6631b44a-e6ad-465a-e15f-00d75eb09197"
      },
      "source": [
        "# get list of devices\r\n",
        "from tensorflow.python.client import device_lib\r\n",
        "device_lib.list_local_devices()"
      ],
      "execution_count": 10,
      "outputs": [
        {
          "output_type": "execute_result",
          "data": {
            "text/plain": [
              "[name: \"/device:CPU:0\"\n",
              " device_type: \"CPU\"\n",
              " memory_limit: 268435456\n",
              " locality {\n",
              " }\n",
              " incarnation: 11575526204876733152, name: \"/device:GPU:0\"\n",
              " device_type: \"GPU\"\n",
              " memory_limit: 14638920512\n",
              " locality {\n",
              "   bus_id: 1\n",
              "   links {\n",
              "   }\n",
              " }\n",
              " incarnation: 12567346319207729617\n",
              " physical_device_desc: \"device: 0, name: Tesla T4, pci bus id: 0000:00:04.0, compute capability: 7.5\"]"
            ]
          },
          "metadata": {
            "tags": []
          },
          "execution_count": 10
        }
      ]
    },
    {
      "cell_type": "code",
      "metadata": {
        "colab": {
          "base_uri": "https://localhost:8080/"
        },
        "id": "izs_MZKr40CV",
        "outputId": "6e9859bb-bf2b-4b80-9e6e-b44dc3922ed5"
      },
      "source": [
        "# check ram info\r\n",
        "!cat /proc/meminfo"
      ],
      "execution_count": 11,
      "outputs": [
        {
          "output_type": "stream",
          "text": [
            "MemTotal:       13333636 kB\n",
            "MemFree:         7757308 kB\n",
            "MemAvailable:   11869500 kB\n",
            "Buffers:           88852 kB\n",
            "Cached:          3996020 kB\n",
            "SwapCached:            0 kB\n",
            "Active:          1341196 kB\n",
            "Inactive:        3770060 kB\n",
            "Active(anon):     859276 kB\n",
            "Inactive(anon):     8552 kB\n",
            "Active(file):     481920 kB\n",
            "Inactive(file):  3761508 kB\n",
            "Unevictable:           0 kB\n",
            "Mlocked:               0 kB\n",
            "SwapTotal:             0 kB\n",
            "SwapFree:              0 kB\n",
            "Dirty:               268 kB\n",
            "Writeback:             0 kB\n",
            "AnonPages:       1026564 kB\n",
            "Mapped:           582976 kB\n",
            "Shmem:              9156 kB\n",
            "Slab:             241740 kB\n",
            "SReclaimable:     194016 kB\n",
            "SUnreclaim:        47724 kB\n",
            "KernelStack:        4768 kB\n",
            "PageTables:         8980 kB\n",
            "NFS_Unstable:          0 kB\n",
            "Bounce:                0 kB\n",
            "WritebackTmp:          0 kB\n",
            "CommitLimit:     6666816 kB\n",
            "Committed_AS:    3744120 kB\n",
            "VmallocTotal:   34359738367 kB\n",
            "VmallocUsed:           0 kB\n",
            "VmallocChunk:          0 kB\n",
            "Percpu:              952 kB\n",
            "AnonHugePages:         0 kB\n",
            "ShmemHugePages:        0 kB\n",
            "ShmemPmdMapped:        0 kB\n",
            "HugePages_Total:       0\n",
            "HugePages_Free:        0\n",
            "HugePages_Rsvd:        0\n",
            "HugePages_Surp:        0\n",
            "Hugepagesize:       2048 kB\n",
            "Hugetlb:               0 kB\n",
            "DirectMap4k:      169192 kB\n",
            "DirectMap2M:     4024320 kB\n",
            "DirectMap1G:    11534336 kB\n"
          ],
          "name": "stdout"
        }
      ]
    },
    {
      "cell_type": "code",
      "metadata": {
        "colab": {
          "base_uri": "https://localhost:8080/"
        },
        "id": "3HFnCLm65b9W",
        "outputId": "f1c41603-47a3-4828-d953-e7c20f908851"
      },
      "source": [
        "# cpu info\r\n",
        "!!cat /proc/cpuinfo"
      ],
      "execution_count": 12,
      "outputs": [
        {
          "output_type": "execute_result",
          "data": {
            "text/plain": [
              "['processor\\t: 0',\n",
              " 'vendor_id\\t: GenuineIntel',\n",
              " 'cpu family\\t: 6',\n",
              " 'model\\t\\t: 79',\n",
              " 'model name\\t: Intel(R) Xeon(R) CPU @ 2.20GHz',\n",
              " 'stepping\\t: 0',\n",
              " 'microcode\\t: 0x1',\n",
              " 'cpu MHz\\t\\t: 2200.000',\n",
              " 'cache size\\t: 56320 KB',\n",
              " 'physical id\\t: 0',\n",
              " 'siblings\\t: 2',\n",
              " 'core id\\t\\t: 0',\n",
              " 'cpu cores\\t: 1',\n",
              " 'apicid\\t\\t: 0',\n",
              " 'initial apicid\\t: 0',\n",
              " 'fpu\\t\\t: yes',\n",
              " 'fpu_exception\\t: yes',\n",
              " 'cpuid level\\t: 13',\n",
              " 'wp\\t\\t: yes',\n",
              " 'flags\\t\\t: fpu vme de pse tsc msr pae mce cx8 apic sep mtrr pge mca cmov pat pse36 clflush mmx fxsr sse sse2 ss ht syscall nx pdpe1gb rdtscp lm constant_tsc rep_good nopl xtopology nonstop_tsc cpuid tsc_known_freq pni pclmulqdq ssse3 fma cx16 pcid sse4_1 sse4_2 x2apic movbe popcnt aes xsave avx f16c rdrand hypervisor lahf_lm abm 3dnowprefetch invpcid_single ssbd ibrs ibpb stibp fsgsbase tsc_adjust bmi1 hle avx2 smep bmi2 erms invpcid rtm rdseed adx smap xsaveopt arat md_clear arch_capabilities',\n",
              " 'bugs\\t\\t: cpu_meltdown spectre_v1 spectre_v2 spec_store_bypass l1tf mds swapgs taa',\n",
              " 'bogomips\\t: 4400.00',\n",
              " 'clflush size\\t: 64',\n",
              " 'cache_alignment\\t: 64',\n",
              " 'address sizes\\t: 46 bits physical, 48 bits virtual',\n",
              " 'power management:',\n",
              " '',\n",
              " 'processor\\t: 1',\n",
              " 'vendor_id\\t: GenuineIntel',\n",
              " 'cpu family\\t: 6',\n",
              " 'model\\t\\t: 79',\n",
              " 'model name\\t: Intel(R) Xeon(R) CPU @ 2.20GHz',\n",
              " 'stepping\\t: 0',\n",
              " 'microcode\\t: 0x1',\n",
              " 'cpu MHz\\t\\t: 2200.000',\n",
              " 'cache size\\t: 56320 KB',\n",
              " 'physical id\\t: 0',\n",
              " 'siblings\\t: 2',\n",
              " 'core id\\t\\t: 0',\n",
              " 'cpu cores\\t: 1',\n",
              " 'apicid\\t\\t: 1',\n",
              " 'initial apicid\\t: 1',\n",
              " 'fpu\\t\\t: yes',\n",
              " 'fpu_exception\\t: yes',\n",
              " 'cpuid level\\t: 13',\n",
              " 'wp\\t\\t: yes',\n",
              " 'flags\\t\\t: fpu vme de pse tsc msr pae mce cx8 apic sep mtrr pge mca cmov pat pse36 clflush mmx fxsr sse sse2 ss ht syscall nx pdpe1gb rdtscp lm constant_tsc rep_good nopl xtopology nonstop_tsc cpuid tsc_known_freq pni pclmulqdq ssse3 fma cx16 pcid sse4_1 sse4_2 x2apic movbe popcnt aes xsave avx f16c rdrand hypervisor lahf_lm abm 3dnowprefetch invpcid_single ssbd ibrs ibpb stibp fsgsbase tsc_adjust bmi1 hle avx2 smep bmi2 erms invpcid rtm rdseed adx smap xsaveopt arat md_clear arch_capabilities',\n",
              " 'bugs\\t\\t: cpu_meltdown spectre_v1 spectre_v2 spec_store_bypass l1tf mds swapgs taa',\n",
              " 'bogomips\\t: 4400.00',\n",
              " 'clflush size\\t: 64',\n",
              " 'cache_alignment\\t: 64',\n",
              " 'address sizes\\t: 46 bits physical, 48 bits virtual',\n",
              " 'power management:',\n",
              " '']"
            ]
          },
          "metadata": {
            "tags": []
          },
          "execution_count": 12
        }
      ]
    },
    {
      "cell_type": "code",
      "metadata": {
        "colab": {
          "base_uri": "https://localhost:8080/"
        },
        "id": "K73cmf4f6nSs",
        "outputId": "6d65d859-cc7f-4d52-ebb0-184b213e76f6"
      },
      "source": [
        "!nvidia-smi"
      ],
      "execution_count": 13,
      "outputs": [
        {
          "output_type": "stream",
          "text": [
            "Thu Dec 24 15:12:08 2020       \n",
            "+-----------------------------------------------------------------------------+\n",
            "| NVIDIA-SMI 460.27.04    Driver Version: 418.67       CUDA Version: 10.1     |\n",
            "|-------------------------------+----------------------+----------------------+\n",
            "| GPU  Name        Persistence-M| Bus-Id        Disp.A | Volatile Uncorr. ECC |\n",
            "| Fan  Temp  Perf  Pwr:Usage/Cap|         Memory-Usage | GPU-Util  Compute M. |\n",
            "|                               |                      |               MIG M. |\n",
            "|===============================+======================+======================|\n",
            "|   0  Tesla T4            Off  | 00000000:00:04.0 Off |                    0 |\n",
            "| N/A   54C    P0    30W /  70W |    227MiB / 15079MiB |      0%      Default |\n",
            "|                               |                      |                 ERR! |\n",
            "+-------------------------------+----------------------+----------------------+\n",
            "                                                                               \n",
            "+-----------------------------------------------------------------------------+\n",
            "| Processes:                                                                  |\n",
            "|  GPU   GI   CI        PID   Type   Process name                  GPU Memory |\n",
            "|        ID   ID                                                   Usage      |\n",
            "|=============================================================================|\n",
            "|  No running processes found                                                 |\n",
            "+-----------------------------------------------------------------------------+\n"
          ],
          "name": "stdout"
        }
      ]
    },
    {
      "cell_type": "code",
      "metadata": {
        "colab": {
          "base_uri": "https://localhost:8080/"
        },
        "id": "EsF_HwCs5jd_",
        "outputId": "f1aa80b1-bbc4-4e46-8ef0-ee891cac4149"
      },
      "source": [
        "# memory footprint support libraries/code\r\n",
        "!ln -sf /opt/bin/nvidia-smi /usr/bin/nvidia-smi\r\n",
        "!pip install gputil\r\n",
        "!pip install psutil\r\n",
        "!pip install humanize\r\n",
        "import psutil\r\n",
        "import humanize\r\n",
        "import os\r\n",
        "import GPUtil as GPU\r\n",
        "GPUs = GPU.getGPUs()\r\n",
        "# XXX: only one GPU on Colab and isn’t guaranteed\r\n",
        "gpu = GPUs[0]\r\n",
        "def printm():\r\n",
        " process = psutil.Process(os.getpid())\r\n",
        " print(\"Gen RAM Free: \" + humanize.naturalsize( psutil.virtual_memory().available ))\r\n",
        " print(\"GPU RAM Free: {0:.0f}MB | Used: {1:.0f}MB | Util {2:3.0f}% | Total {3:.0f}MB\".format(gpu.memoryFree, gpu.memoryUsed, gpu.memoryUtil*100, gpu.memoryTotal))\r\n",
        "printm()"
      ],
      "execution_count": 14,
      "outputs": [
        {
          "output_type": "stream",
          "text": [
            "Collecting gputil\n",
            "  Downloading https://files.pythonhosted.org/packages/ed/0e/5c61eedde9f6c87713e89d794f01e378cfd9565847d4576fa627d758c554/GPUtil-1.4.0.tar.gz\n",
            "Building wheels for collected packages: gputil\n",
            "  Building wheel for gputil (setup.py) ... \u001b[?25l\u001b[?25hdone\n",
            "  Created wheel for gputil: filename=GPUtil-1.4.0-cp36-none-any.whl size=7411 sha256=fd25668c2c1f0cd463524b40ef76fdb8f0769a9448cc42935390ee196b70b102\n",
            "  Stored in directory: /root/.cache/pip/wheels/3d/77/07/80562de4bb0786e5ea186911a2c831fdd0018bda69beab71fd\n",
            "Successfully built gputil\n",
            "Installing collected packages: gputil\n",
            "Successfully installed gputil-1.4.0\n",
            "Requirement already satisfied: psutil in /usr/local/lib/python3.6/dist-packages (5.4.8)\n",
            "Requirement already satisfied: humanize in /usr/local/lib/python3.6/dist-packages (0.5.1)\n",
            "Gen RAM Free: 12.2 GB\n",
            "GPU RAM Free: 14852MB | Used: 227MB | Util   2% | Total 15079MB\n"
          ],
          "name": "stdout"
        }
      ]
    },
    {
      "cell_type": "code",
      "metadata": {
        "id": "XOVtntds5rpq"
      },
      "source": [
        ""
      ],
      "execution_count": null,
      "outputs": []
    }
  ]
}