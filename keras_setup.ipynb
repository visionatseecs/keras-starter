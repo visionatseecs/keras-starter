{
  "nbformat": 4,
  "nbformat_minor": 0,
  "metadata": {
    "colab": {
      "name": "keras_setup.ipynb",
      "provenance": [],
      "collapsed_sections": []
    },
    "kernelspec": {
      "name": "python3",
      "display_name": "Python 3"
    }
  },
  "cells": [
    {
      "cell_type": "markdown",
      "metadata": {
        "id": "gl-lm-MXuZvS"
      },
      "source": [
        "**Introduction:**<br>\n",
        "\n",
        "Keras is an open-source deep learning framework for python. It is a powerful library for developing and evaluating deep learning models. <br>\n",
        "\n",
        "In this tutorial we will go through installation of keras on your local machine.<br>\n",
        "Python must be installed on your machine.<br>\n",
        "\n",
        "*Note:* If you are working on colab, then skip this part and start model building with keras.\n",
        "\n",
        "**Steps:**\n",
        "\n",
        "1.   **Create Virtual environment** <br>\n",
        "Instructions for creating virtual environment can be found in python-starter introduction. [Introduction and Installation](https://github.com/visionatseecs/python-starter/tree/main/01%20-%20Introduction%20and%20Installation)<br>\n",
        "2.   **Activate your virtual environment** <br>\n",
        "3. **Install dependencies*** <br>\n",
        "Keras depends on few libraries, so you need to install them first.<br>\n",
        "*   numpy\n",
        ">\n",
        "```\n",
        "pip install numpy\n",
        "```\n",
        "*   pandas\n",
        ">\n",
        "```\n",
        "pip install pandas\n",
        "```\n",
        "*   matplotlib\n",
        ">\n",
        "```\n",
        "pip install matplotlib\n",
        "```\n",
        "*   scipy\n",
        ">\n",
        "```\n",
        "pip install scipy\n",
        "```\n",
        "*   scikit-learn\n",
        ">\n",
        "```\n",
        "pip install -U scikit-learn\n",
        "```\n",
        "*   seaborn\n",
        ">\n",
        "```\n",
        "pip install seaborn\n",
        "```\n",
        "4. **Install keras**\n",
        ">\n",
        "```\n",
        "pip install keras\n",
        "```\n",
        "Now keras is installed on your machine.\n",
        "\n"
      ]
    }
  ]
}