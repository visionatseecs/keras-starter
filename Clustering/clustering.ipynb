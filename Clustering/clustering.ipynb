{
  "nbformat": 4,
  "nbformat_minor": 0,
  "metadata": {
    "colab": {
      "name": "clustering.ipynb",
      "provenance": [],
      "collapsed_sections": [],
      "toc_visible": true
    },
    "kernelspec": {
      "name": "python3",
      "display_name": "Python 3"
    }
  },
  "cells": [
    {
      "cell_type": "markdown",
      "metadata": {
        "id": "e7unrVg-h0Gr"
      },
      "source": [
        "#### Custering Face Images using k-means and tSNE <br>\r\n",
        "In this notebook we will [cluster](https://en.wikipedia.org/wiki/Cluster_analysis) images using [k-means](https://scikit-learn.org/stable/modules/clustering.html#k-means) clustering algorithm and visualize the clusters using [t-SNE](https://lvdmaaten.github.io/tsne/). The dataset we will use is a simple [face dataset](https://www.kaggle.com/dansbecker/5-celebrity-faces-dataset) which contains face images of 5 different persons. <br>\r\n",
        "The pipeline of our approach will be as follows: <br>\r\n",
        "\r\n",
        "1.   Load Images\r\n",
        "2.   Exract features using a pre-trained model\r\n",
        "3.   Use K-means clustering to cluster images based on the feature similarity\r\n",
        "4.   Use t-SNE to visualize the clusters.\r\n",
        "\r\n",
        "\r\n"
      ]
    },
    {
      "cell_type": "markdown",
      "metadata": {
        "id": "uGPjAPGtRiKc"
      },
      "source": [
        "First let's import all the necessary libraries."
      ]
    },
    {
      "cell_type": "code",
      "metadata": {
        "id": "jDy7eAM7Bb1m"
      },
      "source": [
        "from keras.preprocessing.image import load_img \r\n",
        "from keras.preprocessing.image import img_to_array \r\n",
        "from keras.applications.vgg16 import preprocess_input\r\n",
        "\r\n",
        "from keras.applications.vgg16 import VGG16 \r\n",
        "from keras.models import Model\r\n",
        "\r\n",
        "from sklearn.cluster import KMeans\r\n",
        "from sklearn.manifold import TSNE\r\n",
        "\r\n",
        "import os\r\n",
        "import numpy as np\r\n",
        "import matplotlib.pyplot as plt\r\n",
        "import seaborn as sns\r\n",
        "from imutils import paths\r\n",
        "from tqdm import tqdm\r\n",
        "\r\n",
        "%matplotlib inline"
      ],
      "execution_count": 2,
      "outputs": []
    },
    {
      "cell_type": "markdown",
      "metadata": {
        "id": "4zakMtYwRwQy"
      },
      "source": [
        "Load the pretrained VGG16 model and remove the output layers because we only need the features of each image to do the clustering based on them."
      ]
    },
    {
      "cell_type": "code",
      "metadata": {
        "id": "66xTZ5LoYy-t"
      },
      "source": [
        "# load model\r\n",
        "model = VGG16()\r\n",
        "# remove the output layer\r\n",
        "model = Model(inputs=model.inputs, outputs=model.layers[-2].output)"
      ],
      "execution_count": 4,
      "outputs": []
    },
    {
      "cell_type": "code",
      "metadata": {
        "colab": {
          "base_uri": "https://localhost:8080/"
        },
        "id": "bNPHredH9gul",
        "outputId": "31c87da5-1a5e-4f46-feac-1b194bbbcbe4"
      },
      "source": [
        "model.summary()"
      ],
      "execution_count": 5,
      "outputs": [
        {
          "output_type": "stream",
          "text": [
            "Model: \"model\"\n",
            "_________________________________________________________________\n",
            "Layer (type)                 Output Shape              Param #   \n",
            "=================================================================\n",
            "input_1 (InputLayer)         [(None, 224, 224, 3)]     0         \n",
            "_________________________________________________________________\n",
            "block1_conv1 (Conv2D)        (None, 224, 224, 64)      1792      \n",
            "_________________________________________________________________\n",
            "block1_conv2 (Conv2D)        (None, 224, 224, 64)      36928     \n",
            "_________________________________________________________________\n",
            "block1_pool (MaxPooling2D)   (None, 112, 112, 64)      0         \n",
            "_________________________________________________________________\n",
            "block2_conv1 (Conv2D)        (None, 112, 112, 128)     73856     \n",
            "_________________________________________________________________\n",
            "block2_conv2 (Conv2D)        (None, 112, 112, 128)     147584    \n",
            "_________________________________________________________________\n",
            "block2_pool (MaxPooling2D)   (None, 56, 56, 128)       0         \n",
            "_________________________________________________________________\n",
            "block3_conv1 (Conv2D)        (None, 56, 56, 256)       295168    \n",
            "_________________________________________________________________\n",
            "block3_conv2 (Conv2D)        (None, 56, 56, 256)       590080    \n",
            "_________________________________________________________________\n",
            "block3_conv3 (Conv2D)        (None, 56, 56, 256)       590080    \n",
            "_________________________________________________________________\n",
            "block3_pool (MaxPooling2D)   (None, 28, 28, 256)       0         \n",
            "_________________________________________________________________\n",
            "block4_conv1 (Conv2D)        (None, 28, 28, 512)       1180160   \n",
            "_________________________________________________________________\n",
            "block4_conv2 (Conv2D)        (None, 28, 28, 512)       2359808   \n",
            "_________________________________________________________________\n",
            "block4_conv3 (Conv2D)        (None, 28, 28, 512)       2359808   \n",
            "_________________________________________________________________\n",
            "block4_pool (MaxPooling2D)   (None, 14, 14, 512)       0         \n",
            "_________________________________________________________________\n",
            "block5_conv1 (Conv2D)        (None, 14, 14, 512)       2359808   \n",
            "_________________________________________________________________\n",
            "block5_conv2 (Conv2D)        (None, 14, 14, 512)       2359808   \n",
            "_________________________________________________________________\n",
            "block5_conv3 (Conv2D)        (None, 14, 14, 512)       2359808   \n",
            "_________________________________________________________________\n",
            "block5_pool (MaxPooling2D)   (None, 7, 7, 512)         0         \n",
            "_________________________________________________________________\n",
            "flatten (Flatten)            (None, 25088)             0         \n",
            "_________________________________________________________________\n",
            "fc1 (Dense)                  (None, 4096)              102764544 \n",
            "_________________________________________________________________\n",
            "fc2 (Dense)                  (None, 4096)              16781312  \n",
            "=================================================================\n",
            "Total params: 134,260,544\n",
            "Trainable params: 134,260,544\n",
            "Non-trainable params: 0\n",
            "_________________________________________________________________\n"
          ],
          "name": "stdout"
        }
      ]
    },
    {
      "cell_type": "markdown",
      "metadata": {
        "id": "tWWQfOoqte35"
      },
      "source": [
        "##### Loading data and extracting features: <br>\r\n",
        "In the following block of code, we will load images from each directory of persons and extract their features using the pretrained VGG16 model. The features will be saved in a list for clustering using k-means. We will be resizing the images to 224 x 224 because the VGG16 model is trained on images of size 224 x 224."
      ]
    },
    {
      "cell_type": "markdown",
      "metadata": {
        "id": "y2steF_BfENk"
      },
      "source": [
        "We will not care about the image labels because clustering is an unsupervised learning method."
      ]
    },
    {
      "cell_type": "code",
      "metadata": {
        "colab": {
          "base_uri": "https://localhost:8080/"
        },
        "id": "77xJA-ltISA4",
        "outputId": "a5a9524c-41ef-4b49-ce01-7de15ddf95ca"
      },
      "source": [
        "data_dir = '5-celebrity-faces-dataset/data/train/'\r\n",
        "\r\n",
        "img_features = []\r\n",
        "\r\n",
        "class_dirs = os.listdir(data_dir)\r\n",
        "\r\n",
        "for direc in class_dirs:\r\n",
        "  print('\\nextracting image features from ', direc)\r\n",
        "  class_dir = os.path.join(data_dir, direc)\r\n",
        "  for imagepath in tqdm(list(paths.list_images(class_dir))):\r\n",
        "    # load image\r\n",
        "    img = load_img(imagepath, target_size=(224, 224))\r\n",
        "    \r\n",
        "    # preprocess to feed to the model\r\n",
        "    img = np.array(img)\r\n",
        "    reshaped_img = img.reshape(1,224,224,3)\r\n",
        "    x = preprocess_input(reshaped_img)\r\n",
        "    \r\n",
        "    # extract features\r\n",
        "    feat = model.predict(x)\r\n",
        "\r\n",
        "    # append to the list of image features\r\n",
        "    img_features.append(feat)\r\n",
        "\r\n",
        "# convert the features to array type\r\n",
        "img_features = np.array(img_features)"
      ],
      "execution_count": 6,
      "outputs": [
        {
          "output_type": "stream",
          "text": [
            "\r  0%|          | 0/14 [00:00<?, ?it/s]"
          ],
          "name": "stderr"
        },
        {
          "output_type": "stream",
          "text": [
            "\n",
            "extracting image features from  ben_afflek\n"
          ],
          "name": "stdout"
        },
        {
          "output_type": "stream",
          "text": [
            "100%|██████████| 14/14 [00:08<00:00,  1.60it/s]\n",
            "  0%|          | 0/17 [00:00<?, ?it/s]"
          ],
          "name": "stderr"
        },
        {
          "output_type": "stream",
          "text": [
            "\n",
            "extracting image features from  elton_john\n"
          ],
          "name": "stdout"
        },
        {
          "output_type": "stream",
          "text": [
            "100%|██████████| 17/17 [00:10<00:00,  1.62it/s]\n",
            "  0%|          | 0/21 [00:00<?, ?it/s]"
          ],
          "name": "stderr"
        },
        {
          "output_type": "stream",
          "text": [
            "\n",
            "extracting image features from  jerry_seinfeld\n"
          ],
          "name": "stdout"
        },
        {
          "output_type": "stream",
          "text": [
            "100%|██████████| 21/21 [00:12<00:00,  1.64it/s]\n",
            "  0%|          | 0/19 [00:00<?, ?it/s]"
          ],
          "name": "stderr"
        },
        {
          "output_type": "stream",
          "text": [
            "\n",
            "extracting image features from  madonna\n"
          ],
          "name": "stdout"
        },
        {
          "output_type": "stream",
          "text": [
            "100%|██████████| 19/19 [00:12<00:00,  1.48it/s]\n",
            "  0%|          | 0/22 [00:00<?, ?it/s]"
          ],
          "name": "stderr"
        },
        {
          "output_type": "stream",
          "text": [
            "\n",
            "extracting image features from  mindy_kaling\n"
          ],
          "name": "stdout"
        },
        {
          "output_type": "stream",
          "text": [
            "100%|██████████| 22/22 [00:13<00:00,  1.61it/s]\n"
          ],
          "name": "stderr"
        }
      ]
    },
    {
      "cell_type": "code",
      "metadata": {
        "colab": {
          "base_uri": "https://localhost:8080/"
        },
        "id": "H3Jv3g0pK8tE",
        "outputId": "7c8a7ad2-ac1b-4208-8753-5a72d44e0791"
      },
      "source": [
        "img_features.shape"
      ],
      "execution_count": 7,
      "outputs": [
        {
          "output_type": "execute_result",
          "data": {
            "text/plain": [
              "(93, 1, 4096)"
            ]
          },
          "metadata": {
            "tags": []
          },
          "execution_count": 7
        }
      ]
    },
    {
      "cell_type": "markdown",
      "metadata": {
        "id": "jM_euhiLfd_m"
      },
      "source": [
        "KMeans algorithm requires data to be in the shape of (n_samples, n_features), so we will convert the img_features vector to two dimension."
      ]
    },
    {
      "cell_type": "code",
      "metadata": {
        "id": "931f8VpPP-ci"
      },
      "source": [
        "img_features = img_features.reshape(-1, 4096)"
      ],
      "execution_count": 8,
      "outputs": []
    },
    {
      "cell_type": "code",
      "metadata": {
        "colab": {
          "base_uri": "https://localhost:8080/"
        },
        "id": "BKIa9OarQY-K",
        "outputId": "eb72f2ac-546e-4ebd-d000-8385f33f7d48"
      },
      "source": [
        "img_features.shape"
      ],
      "execution_count": 9,
      "outputs": [
        {
          "output_type": "execute_result",
          "data": {
            "text/plain": [
              "(93, 4096)"
            ]
          },
          "metadata": {
            "tags": []
          },
          "execution_count": 9
        }
      ]
    },
    {
      "cell_type": "markdown",
      "metadata": {
        "id": "1nMawzZp2FYW"
      },
      "source": [
        "##### Elbow method for determining the number of clusters: <br>\r\n",
        "Now that we have features in the required shape, we need to know how many clusters do we need to make for our data. In our case we know there should be 5 clusters because of 5 different persons but we will use the [elbow method](https://en.wikipedia.org/wiki/Elbow_method_(clustering)) to find how many clusters should there be according to the features similarity. We will check for 1 to 10 clusters and get the optimal number of clusters."
      ]
    },
    {
      "cell_type": "code",
      "metadata": {
        "id": "7W-DKwYw25w_"
      },
      "source": [
        "# A list holds the SSE values for each k\r\n",
        "sse = []\r\n",
        "for k in range(1, 10):\r\n",
        "  kmeans = KMeans(n_clusters=k, init='random', random_state=22)\r\n",
        "  kmeans.fit(img_features)\r\n",
        "  sse.append(kmeans.inertia_)"
      ],
      "execution_count": 11,
      "outputs": []
    },
    {
      "cell_type": "code",
      "metadata": {
        "colab": {
          "base_uri": "https://localhost:8080/",
          "height": 283
        },
        "id": "K5Znqf4d3nqg",
        "outputId": "fb1c4b4f-5550-4f18-a45a-658cdc754ca0"
      },
      "source": [
        "plt.plot(range(1, 10), sse)\r\n",
        "plt.xlabel('Number of Clusters')\r\n",
        "plt.ylabel('SSE')\r\n",
        "plt.show()"
      ],
      "execution_count": 12,
      "outputs": [
        {
          "output_type": "display_data",
          "data": {
            "image/png": "[encoded data removed]",
            "text/plain": [
              "<Figure size 432x288 with 1 Axes>"
            ]
          },
          "metadata": {
            "tags": [],
            "needs_background": "light"
          }
        }
      ]
    },
    {
      "cell_type": "markdown",
      "metadata": {
        "id": "hrMxNdSqj-0E"
      },
      "source": [
        "It is not easy to look from the plot where the elbow lies. So, we will use a library (`kneed`) to locate the elbow point. The following code will give us the elbow point which is the optimal number of clusters for our data."
      ]
    },
    {
      "cell_type": "markdown",
      "metadata": {
        "id": "X6-IUj1wk22X"
      },
      "source": [
        "\r\n",
        "\r\n",
        "```\r\n",
        "# for colab install the library using the following command in notebook\r\n",
        "# if working on local system, run the command in terminal without the exclamation mark\r\n",
        "! pip install kneed\r\n",
        "```\r\n",
        "\r\n"
      ]
    },
    {
      "cell_type": "code",
      "metadata": {
        "id": "bWss1Ose6waI"
      },
      "source": [
        "from kneed import KneeLocator\r\n",
        "kl = KneeLocator(\r\n",
        "    range(1, 10), sse, curve=\"convex\", direction=\"decreasing\"\r\n",
        ")"
      ],
      "execution_count": 13,
      "outputs": []
    },
    {
      "cell_type": "code",
      "metadata": {
        "colab": {
          "base_uri": "https://localhost:8080/"
        },
        "id": "Bq_LU-WU7J3S",
        "outputId": "fe0b6093-e276-45a7-d3ac-7cac58d6d73b"
      },
      "source": [
        "num_clusters = kl.elbow\r\n",
        "num_clusters"
      ],
      "execution_count": 14,
      "outputs": [
        {
          "output_type": "execute_result",
          "data": {
            "text/plain": [
              "3"
            ]
          },
          "metadata": {
            "tags": []
          },
          "execution_count": 14
        }
      ]
    },
    {
      "cell_type": "markdown",
      "metadata": {
        "id": "50_nbEf-lJAN"
      },
      "source": [
        "Now, we will cluster the data with the number of clusters that we got in the above step, i.e. `num_clusters`."
      ]
    },
    {
      "cell_type": "code",
      "metadata": {
        "id": "1m8SDzQ7Op12"
      },
      "source": [
        "kmeans = KMeans(n_clusters=num_clusters, init='random', random_state=22)"
      ],
      "execution_count": 15,
      "outputs": []
    },
    {
      "cell_type": "code",
      "metadata": {
        "colab": {
          "base_uri": "https://localhost:8080/"
        },
        "id": "Sj5fDxYF7kUO",
        "outputId": "32fe9e1f-32a8-4117-9e4e-19019efa801d"
      },
      "source": [
        "# compute k-means clustering\r\n",
        "kmeans.fit(img_features)"
      ],
      "execution_count": 16,
      "outputs": [
        {
          "output_type": "execute_result",
          "data": {
            "text/plain": [
              "KMeans(algorithm='auto', copy_x=True, init='random', max_iter=300, n_clusters=3,\n",
              "       n_init=10, n_jobs=None, precompute_distances='auto', random_state=22,\n",
              "       tol=0.0001, verbose=0)"
            ]
          },
          "metadata": {
            "tags": []
          },
          "execution_count": 16
        }
      ]
    },
    {
      "cell_type": "code",
      "metadata": {
        "colab": {
          "base_uri": "https://localhost:8080/"
        },
        "id": "VaSZTEnt7y55",
        "outputId": "956e2721-9441-4a78-aec4-f9fc667f30eb"
      },
      "source": [
        "# number of iterations required to converge\r\n",
        "kmeans.n_iter_"
      ],
      "execution_count": 17,
      "outputs": [
        {
          "output_type": "execute_result",
          "data": {
            "text/plain": [
              "5"
            ]
          },
          "metadata": {
            "tags": []
          },
          "execution_count": 17
        }
      ]
    },
    {
      "cell_type": "markdown",
      "metadata": {
        "id": "S4MRaHy_lrhT"
      },
      "source": [
        "The kmeans algorithm will group the features into `num_clusters` clusters and will give a label to each cluster from `0` to `num_clusters - 1`. We can see below:"
      ]
    },
    {
      "cell_type": "code",
      "metadata": {
        "id": "KoyNjf6VP6hk"
      },
      "source": [
        "labels = kmeans.labels_"
      ],
      "execution_count": 18,
      "outputs": []
    },
    {
      "cell_type": "code",
      "metadata": {
        "colab": {
          "base_uri": "https://localhost:8080/"
        },
        "id": "jC424qX2nI_8",
        "outputId": "d19d97fd-50dd-4a4d-f85e-739aabc67202"
      },
      "source": [
        "labels"
      ],
      "execution_count": 19,
      "outputs": [
        {
          "output_type": "execute_result",
          "data": {
            "text/plain": [
              "array([2, 2, 2, 2, 2, 2, 1, 1, 2, 1, 2, 2, 1, 2, 1, 2, 2, 2, 1, 2, 2, 2,\n",
              "       2, 2, 2, 0, 2, 2, 2, 2, 2, 2, 1, 1, 1, 2, 1, 2, 1, 2, 1, 1, 1, 2,\n",
              "       1, 1, 1, 1, 1, 1, 0, 1, 0, 0, 0, 0, 0, 0, 0, 0, 0, 0, 0, 2, 0, 0,\n",
              "       0, 0, 0, 0, 0, 0, 0, 0, 2, 0, 0, 0, 0, 0, 0, 0, 0, 0, 0, 0, 0, 0,\n",
              "       0, 0, 0, 0, 0], dtype=int32)"
            ]
          },
          "metadata": {
            "tags": []
          },
          "execution_count": 19
        }
      ]
    },
    {
      "cell_type": "markdown",
      "metadata": {
        "id": "kuQaciAQmk4a"
      },
      "source": [
        "#### Visualize the clusters using tSNE <br>\r\n",
        "Now we will use t-sne to look at the grouping of the features done by k-means clustering. The following code will project our feature vector of (n_samples, n_features) to (n_samples, n_components). Because we want to visualize the data in 2D, we will use `n_components = 2`."
      ]
    },
    {
      "cell_type": "code",
      "metadata": {
        "id": "zPQgZvGiQf14"
      },
      "source": [
        "tsne = TSNE(n_components=2, random_state=0).fit_transform(img_features)"
      ],
      "execution_count": 20,
      "outputs": []
    },
    {
      "cell_type": "code",
      "metadata": {
        "colab": {
          "base_uri": "https://localhost:8080/"
        },
        "id": "sP5t3LaQnoYM",
        "outputId": "de97fe72-9df2-4e13-cc82-47211a10d9c7"
      },
      "source": [
        "tsne.shape"
      ],
      "execution_count": 21,
      "outputs": [
        {
          "output_type": "execute_result",
          "data": {
            "text/plain": [
              "(93, 2)"
            ]
          },
          "metadata": {
            "tags": []
          },
          "execution_count": 21
        }
      ]
    },
    {
      "cell_type": "code",
      "metadata": {
        "id": "qS8QhbduY8I5"
      },
      "source": [
        "# extract x and y coordinates representing the positions \r\n",
        "# of the features on T-SNE plot\r\n",
        "tx = tsne[:, 0]\r\n",
        "ty = tsne[:, 1]"
      ],
      "execution_count": 22,
      "outputs": []
    },
    {
      "cell_type": "code",
      "metadata": {
        "id": "R0d_LEtt8Ykw"
      },
      "source": [
        "palette = sns.color_palette(\"bright\", num_clusters)"
      ],
      "execution_count": 23,
      "outputs": []
    },
    {
      "cell_type": "code",
      "metadata": {
        "colab": {
          "base_uri": "https://localhost:8080/",
          "height": 336
        },
        "id": "uKh-Pvo7knIF",
        "outputId": "c3d7e282-c60e-4fa1-a365-0bf4025909f1"
      },
      "source": [
        "sns.scatterplot(tx, ty, hue=labels, legend='full', palette=palette)"
      ],
      "execution_count": 24,
      "outputs": [
        {
          "output_type": "stream",
          "text": [
            "/usr/local/lib/python3.6/dist-packages/seaborn/_decorators.py:43: FutureWarning: Pass the following variables as keyword args: x, y. From version 0.12, the only valid positional argument will be `data`, and passing other arguments without an explicit keyword will result in an error or misinterpretation.\n",
            "  FutureWarning\n"
          ],
          "name": "stderr"
        },
        {
          "output_type": "execute_result",
          "data": {
            "text/plain": [
              "<matplotlib.axes._subplots.AxesSubplot at 0x7f4f96ffa748>"
            ]
          },
          "metadata": {
            "tags": []
          },
          "execution_count": 24
        },
        {
          "output_type": "display_data",
          "data": {
            "image/png": "[encoded data removed]",
            "text/plain": [
              "<Figure size 432x288 with 1 Axes>"
            ]
          },
          "metadata": {
            "tags": [],
            "needs_background": "light"
          }
        }
      ]
    },
    {
      "cell_type": "markdown",
      "metadata": {
        "id": "gStUZscPo32m"
      },
      "source": [
        "The above plot shows that the clusters are not clearly distinguishable. The possible reasons are that the features are not good enough to distinguish faces from each other. We can learn a good feature extractor specific to our dataset and employ that for clustering. Also, the resolution of images are low, so upscaling them to 224 x 224 may resulted in loss of information.<br>\r\n",
        "\r\n",
        "We had 5 different faces but got the optimal number of clusters to be 3. That's again the features are not strong enough to distinguish between each face. So, we may improve this in future."
      ]
    },
    {
      "cell_type": "markdown",
      "metadata": {
        "id": "5cizCMdwEbYT"
      },
      "source": [
        "#### References <br>\r\n",
        "* [t-SNE for Feature Visualization](https://learnopencv.com/t-sne-for-feature-visualization/)\r\n",
        "* [K-Means Clustering in Python: A Practical Guide](https://realpython.com/k-means-clustering-python/#how-to-perform-k-means-clustering-in-python)\r\n",
        "* [How to cluster images based on visual similarity](https://towardsdatascience.com/how-to-cluster-images-based-on-visual-similarity-cd6e7209fe34)"
      ]
    }
  ]
}